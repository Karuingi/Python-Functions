{
 "cells": [
  {
   "cell_type": "code",
   "execution_count": 1,
   "id": "07ec6b69-2948-4751-91e4-9fd5c9deeb89",
   "metadata": {},
   "outputs": [],
   "source": [
    "def countVowels(input_string):\n",
    "    vowels = set(\"aeiouAEIOU\")\n",
    "    count = 0\n",
    "    for char in input_string:\n",
    "        if char in vowels:\n",
    "            count += 1\n",
    "    return count"
   ]
  },
  {
   "cell_type": "code",
   "execution_count": 3,
   "id": "27b8533d-9452-45fb-ba93-0ffc9bb710a3",
   "metadata": {},
   "outputs": [
    {
     "name": "stdout",
     "output_type": "stream",
     "text": [
      "3\n"
     ]
    }
   ],
   "source": [
    "print(countVowels(\"Hello world\"))"
   ]
  },
  {
   "cell_type": "code",
   "execution_count": 4,
   "id": "91dba618-a839-423e-845c-5faf49c2cf43",
   "metadata": {},
   "outputs": [
    {
     "name": "stdout",
     "output_type": "stream",
     "text": [
      "5\n"
     ]
    }
   ],
   "source": [
    "print(countVowels(\"The quick brown fox\"))"
   ]
  },
  {
   "cell_type": "code",
   "execution_count": 6,
   "id": "1cb76808-5be0-4e88-b74c-0f880abe0dcd",
   "metadata": {},
   "outputs": [
    {
     "name": "stdout",
     "output_type": "stream",
     "text": [
      "5\n",
      "4\n"
     ]
    }
   ],
   "source": [
    "print(countVowels(\"AEIOU\"))\n",
    "print(countVowels(\"Python Programming\"))"
   ]
  },
  {
   "cell_type": "code",
   "execution_count": 1,
   "id": "15348cd5-aecb-4ed2-89aa-71507f0ff8b9",
   "metadata": {},
   "outputs": [],
   "source": [
    "def reverseString(s):\n",
    "    #Reverse using slicing\n",
    "    s= s[::-1]\n",
    "    return s"
   ]
  },
  {
   "cell_type": "code",
   "execution_count": 6,
   "id": "7bb275d8-eb97-4f48-aad4-212335108cc3",
   "metadata": {},
   "outputs": [
    {
     "name": "stdout",
     "output_type": "stream",
     "text": [
      "olleh\n"
     ]
    }
   ],
   "source": [
    "print(reverseString(\"hello\"))"
   ]
  },
  {
   "cell_type": "code",
   "execution_count": 7,
   "id": "532a5a22-9afc-4ece-8a68-f6f693c241f7",
   "metadata": {},
   "outputs": [
    {
     "name": "stdout",
     "output_type": "stream",
     "text": [
      "tpircSavaJ\n",
      "54321\n",
      "amanaP lanac a nalp a nam A\n"
     ]
    }
   ],
   "source": [
    "print(reverseString(\"JavaScript\"))\n",
    "print(reverseString(\"12345\"))\n",
    "print(reverseString(\"A man a plan a canal Panama\"))"
   ]
  },
  {
   "cell_type": "code",
   "execution_count": null,
   "id": "ab75b3cf-4a24-4f62-95dc-240a558efa96",
   "metadata": {},
   "outputs": [],
   "source": []
  },
  {
   "cell_type": "code",
   "execution_count": 13,
   "id": "1c1e1b3f-ea62-4813-8e79-2bbbf499aa16",
   "metadata": {},
   "outputs": [],
   "source": [
    "def filterEvenNumbers(nums):\n",
    "    return [num for num in nums if num % 2 == 0]\n"
   ]
  },
  {
   "cell_type": "code",
   "execution_count": 14,
   "id": "e5c1958e-e1ec-430d-b935-ed4187751703",
   "metadata": {},
   "outputs": [
    {
     "name": "stdout",
     "output_type": "stream",
     "text": [
      "[2, 4, 6]\n"
     ]
    }
   ],
   "source": [
    "print(filterEvenNumbers([1, 2, 3, 4, 5, 6]))"
   ]
  },
  {
   "cell_type": "code",
   "execution_count": 15,
   "id": "ed202ace-80e4-4db4-9ce5-8669a11ff456",
   "metadata": {},
   "outputs": [
    {
     "name": "stdout",
     "output_type": "stream",
     "text": [
      "[10, 20]\n",
      "[]\n",
      "[0, -2, -4]\n"
     ]
    }
   ],
   "source": [
    "print(filterEvenNumbers([10, 15, 20, 25]))\n",
    "print(filterEvenNumbers([7, 11, 13]))\n",
    "print(filterEvenNumbers([0, -2, -4]))"
   ]
  },
  {
   "cell_type": "code",
   "execution_count": null,
   "id": "14f8e572-5900-453d-aed4-0abb9d1181b7",
   "metadata": {},
   "outputs": [],
   "source": []
  }
 ],
 "metadata": {
  "kernelspec": {
   "display_name": "Python 3 (ipykernel)",
   "language": "python",
   "name": "python3"
  },
  "language_info": {
   "codemirror_mode": {
    "name": "ipython",
    "version": 3
   },
   "file_extension": ".py",
   "mimetype": "text/x-python",
   "name": "python",
   "nbconvert_exporter": "python",
   "pygments_lexer": "ipython3",
   "version": "3.11.7"
  }
 },
 "nbformat": 4,
 "nbformat_minor": 5
}
